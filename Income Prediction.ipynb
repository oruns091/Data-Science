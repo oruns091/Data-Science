{
 "cells": [
  {
   "cell_type": "code",
   "execution_count": 3,
   "metadata": {},
   "outputs": [
    {
     "data": {
      "text/html": [
       "<div>\n",
       "<style scoped>\n",
       "    .dataframe tbody tr th:only-of-type {\n",
       "        vertical-align: middle;\n",
       "    }\n",
       "\n",
       "    .dataframe tbody tr th {\n",
       "        vertical-align: top;\n",
       "    }\n",
       "\n",
       "    .dataframe thead th {\n",
       "        text-align: right;\n",
       "    }\n",
       "</style>\n",
       "<table border=\"1\" class=\"dataframe\">\n",
       "  <thead>\n",
       "    <tr style=\"text-align: right;\">\n",
       "      <th></th>\n",
       "      <th>age</th>\n",
       "      <th>workclass</th>\n",
       "      <th>id</th>\n",
       "      <th>education</th>\n",
       "      <th>education_num</th>\n",
       "      <th>marital_status</th>\n",
       "      <th>occupation</th>\n",
       "      <th>relationship</th>\n",
       "      <th>race</th>\n",
       "      <th>sex</th>\n",
       "      <th>capital_gain</th>\n",
       "      <th>capital_loss</th>\n",
       "      <th>hours_per_week</th>\n",
       "      <th>native_country</th>\n",
       "      <th>Class</th>\n",
       "    </tr>\n",
       "  </thead>\n",
       "  <tbody>\n",
       "    <tr>\n",
       "      <th>0</th>\n",
       "      <td>39</td>\n",
       "      <td>State-gov</td>\n",
       "      <td>77516</td>\n",
       "      <td>Bachelors</td>\n",
       "      <td>13</td>\n",
       "      <td>Never-married</td>\n",
       "      <td>Adm-clerical</td>\n",
       "      <td>Not-in-family</td>\n",
       "      <td>White</td>\n",
       "      <td>Male</td>\n",
       "      <td>2174</td>\n",
       "      <td>0</td>\n",
       "      <td>40</td>\n",
       "      <td>United-States</td>\n",
       "      <td>&lt;=50K</td>\n",
       "    </tr>\n",
       "    <tr>\n",
       "      <th>1</th>\n",
       "      <td>50</td>\n",
       "      <td>Self-emp-not-inc</td>\n",
       "      <td>83311</td>\n",
       "      <td>Bachelors</td>\n",
       "      <td>13</td>\n",
       "      <td>Married-civ-spouse</td>\n",
       "      <td>Exec-managerial</td>\n",
       "      <td>Husband</td>\n",
       "      <td>White</td>\n",
       "      <td>Male</td>\n",
       "      <td>0</td>\n",
       "      <td>0</td>\n",
       "      <td>13</td>\n",
       "      <td>United-States</td>\n",
       "      <td>&lt;=50K</td>\n",
       "    </tr>\n",
       "    <tr>\n",
       "      <th>2</th>\n",
       "      <td>38</td>\n",
       "      <td>Private</td>\n",
       "      <td>215646</td>\n",
       "      <td>HS-grad</td>\n",
       "      <td>9</td>\n",
       "      <td>Divorced</td>\n",
       "      <td>Handlers-cleaners</td>\n",
       "      <td>Not-in-family</td>\n",
       "      <td>White</td>\n",
       "      <td>Male</td>\n",
       "      <td>0</td>\n",
       "      <td>0</td>\n",
       "      <td>40</td>\n",
       "      <td>United-States</td>\n",
       "      <td>&lt;=50K</td>\n",
       "    </tr>\n",
       "    <tr>\n",
       "      <th>3</th>\n",
       "      <td>53</td>\n",
       "      <td>Private</td>\n",
       "      <td>234721</td>\n",
       "      <td>11th</td>\n",
       "      <td>7</td>\n",
       "      <td>Married-civ-spouse</td>\n",
       "      <td>Handlers-cleaners</td>\n",
       "      <td>Husband</td>\n",
       "      <td>Black</td>\n",
       "      <td>Male</td>\n",
       "      <td>0</td>\n",
       "      <td>0</td>\n",
       "      <td>40</td>\n",
       "      <td>United-States</td>\n",
       "      <td>&lt;=50K</td>\n",
       "    </tr>\n",
       "    <tr>\n",
       "      <th>4</th>\n",
       "      <td>28</td>\n",
       "      <td>Private</td>\n",
       "      <td>338409</td>\n",
       "      <td>Bachelors</td>\n",
       "      <td>13</td>\n",
       "      <td>Married-civ-spouse</td>\n",
       "      <td>Prof-specialty</td>\n",
       "      <td>Wife</td>\n",
       "      <td>Black</td>\n",
       "      <td>Female</td>\n",
       "      <td>0</td>\n",
       "      <td>0</td>\n",
       "      <td>40</td>\n",
       "      <td>Cuba</td>\n",
       "      <td>&lt;=50K</td>\n",
       "    </tr>\n",
       "  </tbody>\n",
       "</table>\n",
       "</div>"
      ],
      "text/plain": [
       "   age         workclass      id  education  education_num  \\\n",
       "0   39         State-gov   77516  Bachelors             13   \n",
       "1   50  Self-emp-not-inc   83311  Bachelors             13   \n",
       "2   38           Private  215646    HS-grad              9   \n",
       "3   53           Private  234721       11th              7   \n",
       "4   28           Private  338409  Bachelors             13   \n",
       "\n",
       "       marital_status         occupation   relationship   race     sex  \\\n",
       "0       Never-married       Adm-clerical  Not-in-family  White    Male   \n",
       "1  Married-civ-spouse    Exec-managerial        Husband  White    Male   \n",
       "2            Divorced  Handlers-cleaners  Not-in-family  White    Male   \n",
       "3  Married-civ-spouse  Handlers-cleaners        Husband  Black    Male   \n",
       "4  Married-civ-spouse     Prof-specialty           Wife  Black  Female   \n",
       "\n",
       "   capital_gain  capital_loss  hours_per_week native_country  Class  \n",
       "0          2174             0              40  United-States  <=50K  \n",
       "1             0             0              13  United-States  <=50K  \n",
       "2             0             0              40  United-States  <=50K  \n",
       "3             0             0              40  United-States  <=50K  \n",
       "4             0             0              40           Cuba  <=50K  "
      ]
     },
     "execution_count": 3,
     "metadata": {},
     "output_type": "execute_result"
    }
   ],
   "source": [
    "import numpy as np \n",
    "import pandas as pd\n",
    "import seaborn as sns\n",
    "import matplotlib.pyplot as plt\n",
    "from sklearn.tree import DecisionTreeClassifier\n",
    "\n",
    "import warnings\n",
    "warnings.filterwarnings('ignore')\n",
    "\n",
    "columns = ['age','workclass','id','education','education_num','marital_status',\n",
    "           'occupation','relationship','race','sex','capital_gain','capital_loss','hours_per_week','native_country','Class']\n",
    "# Load the Training set (adult_data.data)\n",
    "df = pd.read_csv(r'C:\\Users\\OLUBISI\\Desktop\\Data Science Projects\\IncomePredictionProject\\adult.data', header=None, names=columns, sep=' *, *')\n",
    "\n",
    "df.head()\n",
    "\n"
   ]
  },
  {
   "cell_type": "code",
   "execution_count": 6,
   "metadata": {},
   "outputs": [
    {
     "data": {
      "text/plain": [
       "488415"
      ]
     },
     "execution_count": 6,
     "metadata": {},
     "output_type": "execute_result"
    }
   ],
   "source": [
    "np.size(df)"
   ]
  },
  {
   "cell_type": "code",
   "execution_count": 153,
   "metadata": {
    "scrolled": true
   },
   "outputs": [
    {
     "data": {
      "text/plain": [
       "array(['United-States', 'Cuba', 'Jamaica', 'India', ' United-States',\n",
       "       'Mexico', 'South', 'Puerto-Rico', 'Honduras', 'England', 'Canada',\n",
       "       'Germany', 'Iran', 'Philippines', 'Italy', 'Poland', 'Columbia',\n",
       "       'Cambodia', 'Thailand', 'Ecuador', 'Laos', 'Taiwan', 'Haiti',\n",
       "       'Portugal', 'Dominican-Republic', 'El-Salvador', 'France',\n",
       "       'Guatemala', 'China', 'Japan', 'Yugoslavia', 'Peru',\n",
       "       'Outlying-US(Guam-USVI-etc)', 'Scotland', 'Trinadad&Tobago',\n",
       "       'Greece', 'Nicaragua', 'Vietnam', 'Hong', 'Ireland', 'Hungary',\n",
       "       'Holand-Netherlands'], dtype=object)"
      ]
     },
     "execution_count": 153,
     "metadata": {},
     "output_type": "execute_result"
    }
   ],
   "source": [
    "df.workclass = df.workclass.str.replace('?','Private', regex=False)\n",
    "df.occupation = df.occupation.str.replace('?','Craft-repair', regex=False)\n",
    "df.native_country = df.native_country.str.replace('?',' United-States', regex=False)\n",
    "\n",
    "X = df[['age','workclass','id','education','education_num','marital_status',\n",
    "           'occupation','relationship','race','sex','capital_gain','capital_loss','hours_per_week','native_country']].values\n",
    "X[0:14] # take columns needed for analysis\n",
    "df['native_country'].unique()"
   ]
  },
  {
   "cell_type": "code",
   "execution_count": 154,
   "metadata": {},
   "outputs": [
    {
     "name": "stdout",
     "output_type": "stream",
     "text": [
      "<class 'pandas.core.frame.DataFrame'>\n",
      "RangeIndex: 32561 entries, 0 to 32560\n",
      "Data columns (total 15 columns):\n",
      " #   Column          Non-Null Count  Dtype \n",
      "---  ------          --------------  ----- \n",
      " 0   age             32561 non-null  int64 \n",
      " 1   workclass       32561 non-null  object\n",
      " 2   id              32561 non-null  int64 \n",
      " 3   education       32561 non-null  object\n",
      " 4   education_num   32561 non-null  int64 \n",
      " 5   marital_status  32561 non-null  object\n",
      " 6   occupation      32561 non-null  object\n",
      " 7   relationship    32561 non-null  object\n",
      " 8   race            32561 non-null  object\n",
      " 9   sex             32561 non-null  object\n",
      " 10  capital_gain    32561 non-null  int64 \n",
      " 11  capital_loss    32561 non-null  int64 \n",
      " 12  hours_per_week  32561 non-null  int64 \n",
      " 13  native_country  32561 non-null  object\n",
      " 14  Class           32561 non-null  object\n",
      "dtypes: int64(6), object(9)\n",
      "memory usage: 3.7+ MB\n"
     ]
    }
   ],
   "source": [
    "df.info()"
   ]
  },
  {
   "cell_type": "code",
   "execution_count": 7,
   "metadata": {},
   "outputs": [
    {
     "data": {
      "image/png": "[encoded data removed]",
      "text/plain": [
       "<Figure size 576x576 with 2 Axes>"
      ]
     },
     "metadata": {},
     "output_type": "display_data"
    }
   ],
   "source": [
    "import seaborn as sns\n",
    "import matplotlib.pyplot as plt\n",
    "# correlation matrix\n",
    "corrmat = df.corr()\n",
    "f, ax = plt.subplots(figsize=(8,8))\n",
    "sns.set(font_scale=1)\n",
    "sns.heatmap(corrmat,annot=True, square=True, fmt='.2f', vmax=.8);"
   ]
  },
  {
   "cell_type": "code",
   "execution_count": 8,
   "metadata": {
    "scrolled": true
   },
   "outputs": [
    {
     "name": "stdout",
     "output_type": "stream",
     "text": [
      "    age  workclass      id  education  education_num  marital_status  \\\n",
      "0    39          7   77516          9             13               7   \n",
      "1    50          6   83311          9             13               6   \n",
      "2    38          4  215646         11              9               4   \n",
      "3    53          4  234721          1              7               4   \n",
      "4    28          4  338409          9             13               4   \n",
      "..  ...        ...     ...        ...            ...             ...   \n",
      "95   29          2  115585         15             10               2   \n",
      "96   48          6  191277         10             16               6   \n",
      "97   37          4  202683         15             10               4   \n",
      "98   48          4  171095          7             12               4   \n",
      "99   32          1  249409         11              9               1   \n",
      "\n",
      "    occupation  relationship  race  sex  capital_gain  capital_loss  \\\n",
      "0            9             1     4    1          2174             0   \n",
      "1            9             0     4    1             0             0   \n",
      "2           11             1     4    1             0             0   \n",
      "3            1             0     2    1             0             0   \n",
      "4            9             5     2    0             0             0   \n",
      "..         ...           ...   ...  ...           ...           ...   \n",
      "95          15             1     4    1             0             0   \n",
      "96          10             0     4    1             0          1902   \n",
      "97          15             0     4    1             0             0   \n",
      "98           7             4     4    0             0             0   \n",
      "99          11             3     2    1             0             0   \n",
      "\n",
      "    hours_per_week  native_country  Class  \n",
      "0               40              39  <=50K  \n",
      "1               13              39  <=50K  \n",
      "2               40              39  <=50K  \n",
      "3               40              39  <=50K  \n",
      "4               40               5  <=50K  \n",
      "..             ...             ...    ...  \n",
      "95              50              39  <=50K  \n",
      "96              60              39   >50K  \n",
      "97              48              39   >50K  \n",
      "98              40               9  <=50K  \n",
      "99              40              39  <=50K  \n",
      "\n",
      "[100 rows x 15 columns]\n"
     ]
    }
   ],
   "source": [
    "\n",
    "from sklearn import preprocessing\n",
    "\n",
    "label_encoder = preprocessing.LabelEncoder()\n",
    "Label_encoder = preprocessing.LabelEncoder()\n",
    "df['workclass']= label_encoder.fit_transform(df['workclass'])\n",
    "df['education'] =label_encoder.fit_transform(df['education'])\n",
    "                                                  \n",
    "df['marital_status']= label_encoder.fit_transform(df['workclass'])\n",
    "df['occupation'] =label_encoder.fit_transform(df['education'])  \n",
    "                                                  \n",
    "df['relationship']= label_encoder.fit_transform(df['relationship'])\n",
    "df['race'] =label_encoder.fit_transform(df['race'])\n",
    "                                                  \n",
    "df['sex']= label_encoder.fit_transform(df['sex'])\n",
    "df['native_country'] =label_encoder.fit_transform(df['native_country'])\n",
    "#df['Class'] = label_encoder.fit_transform(df['Class'])\n",
    "                                                  \n",
    "print(df.head(100))\n",
    "                                                  \n",
    "\n",
    " "
   ]
  },
  {
   "cell_type": "code",
   "execution_count": 9,
   "metadata": {},
   "outputs": [
    {
     "name": "stdout",
     "output_type": "stream",
     "text": [
      "0        <=50K\n",
      "1        <=50K\n",
      "2        <=50K\n",
      "3        <=50K\n",
      "4        <=50K\n",
      "         ...  \n",
      "32556    <=50K\n",
      "32557     >50K\n",
      "32558    <=50K\n",
      "32559    <=50K\n",
      "32560     >50K\n",
      "Name: Class, Length: 32561, dtype: object\n"
     ]
    }
   ],
   "source": [
    "X= df.drop('Class',axis=1)\n",
    "y = df['Class']\n",
    "\n",
    "print(df['Class'])\n",
    "\n",
    "from imblearn.over_sampling import SMOTE \n",
    "sm = SMOTE(random_state=42)\n",
    "train_smote, class_smote = sm.fit_sample(X, y)\n",
    "\n",
    "from sklearn.model_selection import train_test_split\n",
    "X_train, X_test, Y_train, Y_test = train_test_split(train_smote, class_smote, test_size=0.3, random_state=0)\n"
   ]
  },
  {
   "cell_type": "code",
   "execution_count": 10,
   "metadata": {},
   "outputs": [
    {
     "name": "stdout",
     "output_type": "stream",
     "text": [
      "Train smote shape (49440, 14)\n",
      "Train smote class shape (49440,)\n"
     ]
    }
   ],
   "source": [
    "print('Train smote shape', train_smote.shape)\n",
    "print('Train smote class shape', class_smote.shape)\n"
   ]
  },
  {
   "cell_type": "code",
   "execution_count": 11,
   "metadata": {},
   "outputs": [],
   "source": [
    "from sklearn.metrics import confusion_matrix, accuracy_score, classification_report, roc_curve, roc_auc_score\n",
    "\n",
    "def getEvaluationMetrics(y_test, y_pred, bool=False):\n",
    "  \n",
    "  classifierMetrics = {}\n",
    "  \n",
    "  # Accuracy\n",
    "  accuracy = accuracy_score(y_test,y_pred)\n",
    "  print('Accuracy :',accuracy)\n",
    "\n",
    "  classifierMetrics['Accuracy'] = accuracy\n",
    "  \n",
    "  # Classification Report\n",
    "  print(classification_report(y_test, y_pred, target_names=['<=50K', '>50K'], output_dict=bool))\n",
    "  \n",
    "  return classifierMetrics\n",
    "\n",
    "def getConfusionMatrix(y_test, y_pred):\n",
    "  # Confusion matrix\n",
    "  mat = confusion_matrix(y_test, y_pred)\n",
    "  cm = pd.DataFrame(mat)\n",
    "  TP = cm.iloc[1,1] # True Positive - Predicted >50K Correctly\n",
    "  TN = cm.iloc[0,0] # True Negative - Predicted <=50K Incorrectly\n",
    "  FP = cm.iloc[0,1] # False Positive - Predicted >50K when it didn't rain\n",
    "  FN = cm.iloc[1,0] # False Negative - Predicted <=50K when it did rain\n",
    "\n",
    "  print('Sensitivity: {:.2%}'.format(TP/(FN+TP)))\n",
    "  print('Specificity: {:.2%}'.format(TN/(FP+TN)))\n",
    "  \n",
    "  sns.heatmap(mat.T, square=True, annot=True, fmt='d', cbar=True)\n",
    "  plt.title('A confusion matrix showing the frequency of misclassifications by our classifier')\n",
    "  plt.xlabel('true label')\n",
    "  plt.ylabel('predicted label');\n",
    "  plt.show()"
   ]
  },
  {
   "cell_type": "code",
   "execution_count": 12,
   "metadata": {},
   "outputs": [
    {
     "name": "stdout",
     "output_type": "stream",
     "text": [
      "Xtrain shape (34608, 14)\n",
      "Ytrain shape (34608,)\n",
      "Xtest shape (14832, 14)\n",
      "Ytest shape (14832,)\n"
     ]
    }
   ],
   "source": [
    "EvaluationMetrics = {}\n",
    "#Train data\n",
    "#Xtrain = data_norm_train.drop(columns='Class', axis=1)\n",
    "#Ytrain = data_norm_train['Class']\n",
    "X_train.describe()\n",
    "print('Xtrain shape', X_train.shape)\n",
    "print('Ytrain shape', Y_train.shape)\n",
    "\n",
    "print('Xtest shape', X_test.shape)\n",
    "print('Ytest shape', Y_test.shape)"
   ]
  },
  {
   "cell_type": "code",
   "execution_count": 13,
   "metadata": {},
   "outputs": [
    {
     "name": "stdout",
     "output_type": "stream",
     "text": [
      "Accuracy : 0.684668284789644\n",
      "              precision    recall  f1-score   support\n",
      "\n",
      "       <=50K       0.66      0.76      0.71      7472\n",
      "        >50K       0.71      0.61      0.66      7360\n",
      "\n",
      "    accuracy                           0.68     14832\n",
      "   macro avg       0.69      0.68      0.68     14832\n",
      "weighted avg       0.69      0.68      0.68     14832\n",
      "\n",
      "Sensitivity: 60.75%\n",
      "Specificity: 76.07%\n"
     ]
    },
    {
     "data": {
      "image/png": "[encoded data removed]",
      "text/plain": [
       "<Figure size 432x288 with 2 Axes>"
      ]
     },
     "metadata": {},
     "output_type": "display_data"
    }
   ],
   "source": [
    "#Logistic Regression\n",
    "from sklearn.linear_model import LogisticRegression\n",
    "from sklearn.model_selection import StratifiedKFold\n",
    "\n",
    "lr = LogisticRegression(random_state=0)\n",
    "lr.fit(X_train, Y_train)\n",
    "Y_pred = lr.predict(X_test)\n",
    "\n",
    "metrics = getEvaluationMetrics(Y_test,Y_pred)\n",
    "\n",
    "# Get the Confusion Matrix\n",
    "getConfusionMatrix(Y_test, Y_pred)\n",
    "\n",
    "# Get the ROC Curve\n",
    "#auc = getROCcurve(Ytest, lr.predict_proba(Xtest))\n",
    "#metrics['AUC'] = auc\n",
    "\n",
    "EvaluationMetrics['Logistic Regression'] = metrics"
   ]
  },
  {
   "cell_type": "code",
   "execution_count": 14,
   "metadata": {},
   "outputs": [
    {
     "name": "stdout",
     "output_type": "stream",
     "text": [
      "Accuracy : 0.8419633225458468\n",
      "              precision    recall  f1-score   support\n",
      "\n",
      "       <=50K       0.85      0.84      0.84      7472\n",
      "        >50K       0.84      0.85      0.84      7360\n",
      "\n",
      "    accuracy                           0.84     14832\n",
      "   macro avg       0.84      0.84      0.84     14832\n",
      "weighted avg       0.84      0.84      0.84     14832\n",
      "\n",
      "Sensitivity: 84.58%\n",
      "Specificity: 83.82%\n"
     ]
    },
    {
     "data": {
      "image/png": "[encoded data removed]",
      "text/plain": [
       "<Figure size 432x288 with 2 Axes>"
      ]
     },
     "metadata": {},
     "output_type": "display_data"
    }
   ],
   "source": [
    "from sklearn.tree import DecisionTreeClassifier\n",
    "\n",
    "dt = DecisionTreeClassifier(random_state=0)\n",
    "dt.fit(X_train, Y_train)\n",
    "Y_pred = dt.predict(X_test)\n",
    "\n",
    "metrics = getEvaluationMetrics(Y_test,Y_pred)\n",
    "\n",
    "# Get the Confusion Matrix\n",
    "getConfusionMatrix(Y_test, Y_pred)\n",
    "\n",
    "# Get the ROC Curve\n",
    "#auc = getROCcurve(Ytest, dt.predict_proba(Xtest))\n",
    "#metrics['AUC'] = auc\n",
    "\n",
    "EvaluationMetrics['DecisionTreeClassifier'] = metrics"
   ]
  },
  {
   "cell_type": "code",
   "execution_count": 17,
   "metadata": {},
   "outputs": [
    {
     "name": "stdout",
     "output_type": "stream",
     "text": [
      "Accuracy : 0.8824163969795038\n",
      "              precision    recall  f1-score   support\n",
      "\n",
      "       <=50K       0.89      0.88      0.88      7472\n",
      "        >50K       0.88      0.88      0.88      7360\n",
      "\n",
      "    accuracy                           0.88     14832\n",
      "   macro avg       0.88      0.88      0.88     14832\n",
      "weighted avg       0.88      0.88      0.88     14832\n",
      "\n",
      "Sensitivity: 88.45%\n",
      "Specificity: 88.04%\n"
     ]
    },
    {
     "data": {
      "image/png": "[encoded data removed]",
      "text/plain": [
       "<Figure size 432x288 with 2 Axes>"
      ]
     },
     "metadata": {},
     "output_type": "display_data"
    }
   ],
   "source": [
    "from sklearn.ensemble import BaggingClassifier\n",
    "clf_bag = BaggingClassifier(DecisionTreeClassifier(), bootstrap_features = 'true',\n",
    "                            warm_start = 'true', n_estimators=20)\n",
    "clf_bag.fit(X_train,Y_train)\n",
    "Y_pred = clf_bag.predict(X_test)\n",
    "\n",
    "metrics = getEvaluationMetrics(Y_test,Y_pred)\n",
    "\n",
    "# Get the Confusion Matrix\n",
    "getConfusionMatrix(Y_test, Y_pred)\n",
    "\n",
    "EvaluationMetrics['BaggingClassifier'] = metrics"
   ]
  }
 ],
 "metadata": {
  "kernelspec": {
   "display_name": "Python 3",
   "language": "python",
   "name": "python3"
  },
  "language_info": {
   "codemirror_mode": {
    "name": "ipython",
    "version": 3
   },
   "file_extension": ".py",
   "mimetype": "text/x-python",
   "name": "python",
   "nbconvert_exporter": "python",
   "pygments_lexer": "ipython3",
   "version": "3.7.6"
  }
 },
 "nbformat": 4,
 "nbformat_minor": 4
}
