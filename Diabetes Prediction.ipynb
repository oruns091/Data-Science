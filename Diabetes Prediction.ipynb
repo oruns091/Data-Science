{
 "cells": [
  {
   "cell_type": "code",
   "execution_count": 6,
   "metadata": {},
   "outputs": [],
   "source": [
    "import pandas as pd\n",
    "import numpy as np\n",
    "import matplotlib.pyplot as plt\n",
    "\n",
    "from sklearn import svm\n",
    "from sklearn.neural_network import MLPClassifier\n",
    "from sklearn.model_selection import train_test_split\n",
    "from sklearn.metrics import confusion_matrix\n",
    "from sklearn.metrics import roc_curve, auc\n",
    "from itertools import cycle"
   ]
  },
  {
   "cell_type": "code",
   "execution_count": 7,
   "metadata": {},
   "outputs": [
    {
     "name": "stdout",
     "output_type": "stream",
     "text": [
      "<class 'pandas.core.frame.DataFrame'>\n",
      "RangeIndex: 768 entries, 0 to 767\n",
      "Data columns (total 9 columns):\n",
      " #   Column                    Non-Null Count  Dtype  \n",
      "---  ------                    --------------  -----  \n",
      " 0   Pregnancies               768 non-null    int64  \n",
      " 1   Glucose                   768 non-null    object \n",
      " 2   BloodPressure             768 non-null    object \n",
      " 3   SkinThickness             768 non-null    object \n",
      " 4   Insulin                   768 non-null    object \n",
      " 5   BMI                       768 non-null    object \n",
      " 6   DiabetesPedigreeFunction  768 non-null    float64\n",
      " 7   Age                       768 non-null    int64  \n",
      " 8   Outcome                   768 non-null    int64  \n",
      "dtypes: float64(1), int64(3), object(5)\n",
      "memory usage: 54.1+ KB\n"
     ]
    },
    {
     "data": {
      "text/html": [
       "<div>\n",
       "<style scoped>\n",
       "    .dataframe tbody tr th:only-of-type {\n",
       "        vertical-align: middle;\n",
       "    }\n",
       "\n",
       "    .dataframe tbody tr th {\n",
       "        vertical-align: top;\n",
       "    }\n",
       "\n",
       "    .dataframe thead th {\n",
       "        text-align: right;\n",
       "    }\n",
       "</style>\n",
       "<table border=\"1\" class=\"dataframe\">\n",
       "  <thead>\n",
       "    <tr style=\"text-align: right;\">\n",
       "      <th></th>\n",
       "      <th>Pregnancies</th>\n",
       "      <th>DiabetesPedigreeFunction</th>\n",
       "      <th>Age</th>\n",
       "      <th>Outcome</th>\n",
       "    </tr>\n",
       "  </thead>\n",
       "  <tbody>\n",
       "    <tr>\n",
       "      <th>count</th>\n",
       "      <td>768.000000</td>\n",
       "      <td>768.000000</td>\n",
       "      <td>768.000000</td>\n",
       "      <td>768.000000</td>\n",
       "    </tr>\n",
       "    <tr>\n",
       "      <th>mean</th>\n",
       "      <td>3.845052</td>\n",
       "      <td>0.471876</td>\n",
       "      <td>33.240885</td>\n",
       "      <td>0.348958</td>\n",
       "    </tr>\n",
       "    <tr>\n",
       "      <th>std</th>\n",
       "      <td>3.369578</td>\n",
       "      <td>0.331329</td>\n",
       "      <td>11.760232</td>\n",
       "      <td>0.476951</td>\n",
       "    </tr>\n",
       "    <tr>\n",
       "      <th>min</th>\n",
       "      <td>0.000000</td>\n",
       "      <td>0.078000</td>\n",
       "      <td>21.000000</td>\n",
       "      <td>0.000000</td>\n",
       "    </tr>\n",
       "    <tr>\n",
       "      <th>25%</th>\n",
       "      <td>1.000000</td>\n",
       "      <td>0.243750</td>\n",
       "      <td>24.000000</td>\n",
       "      <td>0.000000</td>\n",
       "    </tr>\n",
       "    <tr>\n",
       "      <th>50%</th>\n",
       "      <td>3.000000</td>\n",
       "      <td>0.372500</td>\n",
       "      <td>29.000000</td>\n",
       "      <td>0.000000</td>\n",
       "    </tr>\n",
       "    <tr>\n",
       "      <th>75%</th>\n",
       "      <td>6.000000</td>\n",
       "      <td>0.626250</td>\n",
       "      <td>41.000000</td>\n",
       "      <td>1.000000</td>\n",
       "    </tr>\n",
       "    <tr>\n",
       "      <th>max</th>\n",
       "      <td>17.000000</td>\n",
       "      <td>2.420000</td>\n",
       "      <td>81.000000</td>\n",
       "      <td>1.000000</td>\n",
       "    </tr>\n",
       "  </tbody>\n",
       "</table>\n",
       "</div>"
      ],
      "text/plain": [
       "       Pregnancies  DiabetesPedigreeFunction         Age     Outcome\n",
       "count   768.000000                768.000000  768.000000  768.000000\n",
       "mean      3.845052                  0.471876   33.240885    0.348958\n",
       "std       3.369578                  0.331329   11.760232    0.476951\n",
       "min       0.000000                  0.078000   21.000000    0.000000\n",
       "25%       1.000000                  0.243750   24.000000    0.000000\n",
       "50%       3.000000                  0.372500   29.000000    0.000000\n",
       "75%       6.000000                  0.626250   41.000000    1.000000\n",
       "max      17.000000                  2.420000   81.000000    1.000000"
      ]
     },
     "execution_count": 7,
     "metadata": {},
     "output_type": "execute_result"
    }
   ],
   "source": [
    "import pandas as pd\n",
    "train = pd.read_csv(r'C:\\Users\\OLUBISI\\Documents\\GitHub\\Data Science Projects\\Datasets\\diabetes.csv')\n",
    "train.head() #summary\n",
    "train.info() #more info on data type and if columns have missing values\n",
    "train.describe() #find mean, std, min, mac, percentile "
   ]
  },
  {
   "cell_type": "code",
   "execution_count": 8,
   "metadata": {},
   "outputs": [],
   "source": [
    "train.replace('?', np.nan, inplace = True)\n",
    "train = train.astype(float)"
   ]
  },
  {
   "cell_type": "code",
   "execution_count": 9,
   "metadata": {},
   "outputs": [
    {
     "name": "stdout",
     "output_type": "stream",
     "text": [
      "                          Total   Percent\n",
      "Insulin                     371  0.483073\n",
      "SkinThickness               227  0.295573\n",
      "BloodPressure                34  0.044271\n",
      "BMI                          11  0.014323\n",
      "Glucose                       5  0.006510\n",
      "Outcome                       0  0.000000\n",
      "Age                           0  0.000000\n",
      "DiabetesPedigreeFunction      0  0.000000\n",
      "Pregnancies                   0  0.000000\n"
     ]
    }
   ],
   "source": [
    "total = train.isnull().sum().sort_values(ascending=False)\n",
    "percent =(train.isnull().sum()/train.isnull().count()).sort_values(ascending=False)\n",
    "missing_data = pd.concat([total, percent], axis=1, keys=['Total', 'Percent'])\n",
    "print(missing_data)"
   ]
  },
  {
   "cell_type": "code",
   "execution_count": 10,
   "metadata": {},
   "outputs": [
    {
     "name": "stdout",
     "output_type": "stream",
     "text": [
      "                             mode    median        mean     max     min\n",
      "Pregnancies                 1.000    3.0000    3.845052   17.00   0.000\n",
      "Glucose                    99.000  117.0000  121.686763  199.00  44.000\n",
      "BloodPressure              70.000   72.0000   72.306540  122.00   0.000\n",
      "SkinThickness              32.000   29.0000   29.153420   99.00   7.000\n",
      "Insulin                   105.000  125.0000  154.372796  846.00   0.000\n",
      "BMI                        32.000   32.3000   32.457464   67.10  18.200\n",
      "DiabetesPedigreeFunction    0.254    0.3725    0.471876    2.42   0.078\n",
      "Age                        22.000   29.0000   33.240885   81.00  21.000\n",
      "Outcome                     0.000    0.0000    0.348958    1.00   0.000\n"
     ]
    }
   ],
   "source": [
    "mode = pd.Series(train.mode().values[0], index=['Pregnancies', 'Glucose', 'BloodPressure',\n",
    "'SkinThickness', 'Insulin','BMI','DiabetesPedigreeFunction','Age','Outcome'])\n",
    "median = train.median()\n",
    "mean = train.mean()\n",
    "max = train.max()\n",
    "min = train.min()\n",
    "skewness = pd.concat([mode, median, mean, max, min], axis=1, keys=['mode','median','mean','max','min'])\n",
    "skewness \n",
    "skewness[skewness.index.isin(['Insulin','SkinThickness','BloodPressure','BMI','Glucose'])]\n",
    "print(skewness)"
   ]
  },
  {
   "cell_type": "code",
   "execution_count": 11,
   "metadata": {},
   "outputs": [
    {
     "data": {
      "text/plain": [
       "array([[<matplotlib.axes._subplots.AxesSubplot object at 0x0000020716F98DC8>,\n",
       "        <matplotlib.axes._subplots.AxesSubplot object at 0x0000020718226A08>],\n",
       "       [<matplotlib.axes._subplots.AxesSubplot object at 0x000002071824AD48>,\n",
       "        <matplotlib.axes._subplots.AxesSubplot object at 0x0000020718283748>],\n",
       "       [<matplotlib.axes._subplots.AxesSubplot object at 0x00000207182BE188>,\n",
       "        <matplotlib.axes._subplots.AxesSubplot object at 0x00000207182F3B48>]],\n",
       "      dtype=object)"
      ]
     },
     "execution_count": 11,
     "metadata": {},
     "output_type": "execute_result"
    },
    {
     "data": {
      "image/png": "[encoded data removed]",
      "text/plain": [
       "<Figure size 432x288 with 6 Axes>"
      ]
     },
     "metadata": {
      "needs_background": "light"
     },
     "output_type": "display_data"
    }
   ],
   "source": [
    "# Histogram\n",
    "missing_value_analysis = pd.concat([train['Insulin'],train['SkinThickness'],train['BloodPressure'],train['BMI'],train['Glucose']]\n",
    " , axis=1, keys=['Insulin', 'SkinThickness','BloodPressure','BMI','Glucose'])\n",
    "missing_value_analysis.hist(bins=50)"
   ]
  },
  {
   "cell_type": "code",
   "execution_count": 12,
   "metadata": {},
   "outputs": [],
   "source": [
    "# handle the missing data by applying central measure of tendency\n",
    "train['BMI'] = train['BMI'].fillna(train['BMI'].median())\n",
    "train['BloodPressure'] = train['BloodPressure'].fillna(train['BloodPressure'].mean())\n",
    "train['Glucose'] = train['Glucose'].fillna(train['Glucose'].median())\n",
    "train['Insulin'] = train['Insulin'].fillna(train['Insulin'].median())\n",
    "train['SkinThickness'] = train['SkinThickness'].fillna(train['SkinThickness'].mean())"
   ]
  },
  {
   "cell_type": "code",
   "execution_count": 13,
   "metadata": {},
   "outputs": [],
   "source": [
    "#z-score normalization\n",
    "X = train\n",
    "Y = train.pop('Outcome')\n",
    "X = (train-train.mean())/(train.std())"
   ]
  },
  {
   "cell_type": "code",
   "execution_count": 14,
   "metadata": {},
   "outputs": [
    {
     "data": {
      "text/plain": [
       "array([[<matplotlib.axes._subplots.AxesSubplot object at 0x000002071867C408>,\n",
       "        <matplotlib.axes._subplots.AxesSubplot object at 0x00000207186BCDC8>,\n",
       "        <matplotlib.axes._subplots.AxesSubplot object at 0x00000207186D1A88>],\n",
       "       [<matplotlib.axes._subplots.AxesSubplot object at 0x00000207187084C8>,\n",
       "        <matplotlib.axes._subplots.AxesSubplot object at 0x000002071873CE88>,\n",
       "        <matplotlib.axes._subplots.AxesSubplot object at 0x0000020718776888>],\n",
       "       [<matplotlib.axes._subplots.AxesSubplot object at 0x00000207187AF1C8>,\n",
       "        <matplotlib.axes._subplots.AxesSubplot object at 0x00000207187E4BC8>,\n",
       "        <matplotlib.axes._subplots.AxesSubplot object at 0x00000207187E4888>]],\n",
       "      dtype=object)"
      ]
     },
     "execution_count": 14,
     "metadata": {},
     "output_type": "execute_result"
    },
    {
     "data": {
      "image/png": "[encoded data removed]",
      "text/plain": [
       "<Figure size 432x288 with 9 Axes>"
      ]
     },
     "metadata": {
      "needs_background": "light"
     },
     "output_type": "display_data"
    }
   ],
   "source": [
    "#train-test Split\n",
    "from sklearn.model_selection import train_test_split\n",
    "X_train, X_test, Y_train, Y_test = train_test_split(X, Y, test_size=0.25, random_state=42)\n",
    "X.hist(bins=30)"
   ]
  },
  {
   "cell_type": "code",
   "execution_count": 15,
   "metadata": {},
   "outputs": [
    {
     "name": "stdout",
     "output_type": "stream",
     "text": [
      "[array([[-0.40587393],\n",
      "       [-1.96528565],\n",
      "       [ 0.37590195],\n",
      "       [-0.16669167],\n",
      "       [-0.12229255],\n",
      "       [-0.84183498],\n",
      "       [-0.52068092],\n",
      "       [-1.19051153]]), array([[-1.00897402]])]\n"
     ]
    }
   ],
   "source": [
    "from sklearn.neural_network import MLPClassifier\n",
    "clf = MLPClassifier(solver='adam', learning_rate_init=0.001, batch_size=10,\n",
    "hidden_layer_sizes=(1), random_state=1)\n",
    "clf.fit(X_train, Y_train)\n",
    "\n",
    "#Plot the Neural Network. \n",
    "print(clf.coefs_)"
   ]
  },
  {
   "cell_type": "code",
   "execution_count": 16,
   "metadata": {},
   "outputs": [
    {
     "name": "stdout",
     "output_type": "stream",
     "text": [
      "Accuracy for MLP: 0.6979166666666666\n",
      "[[85 38]\n",
      " [20 49]]\n"
     ]
    }
   ],
   "source": [
    "#To estimate the model's performance, generate predictions on the test dataset.\n",
    "prediction = clf.predict(X_test)\n",
    "acc = sum(prediction==Y_test)/len(Y_test)\n",
    "print(\"Accuracy for MLP: \"+str(acc))\n",
    "\n",
    "# Confusion matrix for the model.\n",
    "print(confusion_matrix(Y_test, prediction))\n",
    "y_score = clf.predict_proba(X_test)[:,1]\n",
    "\n",
    "#Compute ROC curve and ROC area for each class\n",
    "fprs = []\n",
    "tprs = []\n",
    "roc_aucs = []\n",
    "fpr, tpr, _ = roc_curve(Y_test, y_score)\n",
    "roc_auc = auc(fpr, tpr)\n",
    "fprs.append(fpr)\n",
    "tprs.append(tpr)\n",
    "roc_aucs.append(roc_auc)"
   ]
  },
  {
   "cell_type": "code",
   "execution_count": 17,
   "metadata": {},
   "outputs": [
    {
     "name": "stdout",
     "output_type": "stream",
     "text": [
      "Accuracy for SVM: 0.734375\n"
     ]
    }
   ],
   "source": [
    "# SVM\n",
    "clf = svm.SVC()\n",
    "clf.fit(X_train, Y_train)\n",
    "prediction = clf.predict(X_test)\n",
    "acc = sum(prediction==Y_test)/len(Y_test)\n",
    "print(\"Accuracy for SVM: \"+str(acc))\n",
    "y_score = clf.fit(X_train, Y_train).decision_function(X_test)"
   ]
  },
  {
   "cell_type": "code",
   "execution_count": 18,
   "metadata": {},
   "outputs": [
    {
     "data": {
      "image/png": "[encoded data removed]",
      "text/plain": [
       "<Figure size 432x288 with 1 Axes>"
      ]
     },
     "metadata": {
      "needs_background": "light"
     },
     "output_type": "display_data"
    }
   ],
   "source": [
    "# Compute ROC curve and ROC area for each class\n",
    "fpr, tpr, _ = roc_curve(Y_test, y_score)\n",
    "roc_auc = auc(fpr, tpr)\n",
    "fprs.append(fpr)\n",
    "tprs.append(tpr)\n",
    "tprs.append(tpr)\n",
    "roc_aucs.append(roc_auc)\n",
    "plt.figure()\n",
    "lw = 2\n",
    "colors = cycle(['aqua', 'darkorange'])\n",
    "labels = ['multi-layer', 'SVM']\n",
    "for i, color in zip(range(2), colors):\n",
    " plt.plot(fprs[i], tprs[i], color=color, lw=lw,\n",
    " label='ROC curve of '+labels[i]+' (area = {1:0.2f})'\n",
    " ''.format(i, roc_aucs[i]))\n",
    "plt.plot([0, 1], [0, 1], 'k--', lw=lw)\n",
    "plt.xlim([0.0, 1.0])\n",
    "plt.ylim([0.0, 1.05])\n",
    "plt.xlabel('False Positive Rate')\n",
    "plt.ylabel('True Positive Rate')\n",
    "plt.title('ROC curve')\n",
    "plt.legend(loc=\"lower right\")\n",
    "plt.show()"
   ]
  },
  {
   "cell_type": "code",
   "execution_count": null,
   "metadata": {},
   "outputs": [],
   "source": []
  }
 ],
 "metadata": {
  "kernelspec": {
   "display_name": "Python 3",
   "language": "python",
   "name": "python3"
  },
  "language_info": {
   "codemirror_mode": {
    "name": "ipython",
    "version": 3
   },
   "file_extension": ".py",
   "mimetype": "text/x-python",
   "name": "python",
   "nbconvert_exporter": "python",
   "pygments_lexer": "ipython3",
   "version": "3.7.6"
  }
 },
 "nbformat": 4,
 "nbformat_minor": 4
}
